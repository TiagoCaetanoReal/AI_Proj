{
 "cells": [
  {
   "cell_type": "code",
   "execution_count": null,
   "metadata": {},
   "outputs": [],
   "source": [
    "import pandas as pd\n",
    "import librosa as mimosa\n",
    "import audioread\n",
    "import os\n",
    "import matplotlib as plt\n",
    "import seaborn as sns\n",
    "\n",
    "musicGender = os.listdir(\"musics\") # returns list\n",
    "genderlabel = []\n",
    "musicData = []\n",
    "\n",
    "for gender in musicGender:\n",
    "    genderMusics = os.listdir('./musics/{}'.format(gender))\n",
    "    for music in genderMusics:\n",
    "        genderlabel.append(gender)\n",
    "        amplitude, sr = mimosa.load('./musics/{}'.format(gender)+'/{}'.format(music))\n",
    "        \n",
    "        musicData.append(amplitude)\n"
   ]
  },
  {
   "cell_type": "code",
   "execution_count": null,
   "metadata": {},
   "outputs": [],
   "source": [
    "# tempo = []\n",
    "\n",
    "# for i, data in enumerate(musicData):\n",
    "#     t, beat = mimosa.beat.beat_track(y=musicData[i])\n",
    "#     print('{}'.format(t)+ \" {}\".format(i))\n",
    "#     tempo.append(t)\n"
   ]
  },
  {
   "cell_type": "code",
   "execution_count": null,
   "metadata": {},
   "outputs": [],
   "source": [
    "# d = {'tempo': tempo, 'genderlabel':genderlabel}\n",
    "# tempoDF = pd.DataFrame(data=d)\n",
    "\n",
    "# for t in tempoDF:\n",
    "#     print(tempoDF.index)"
   ]
  },
  {
   "cell_type": "code",
   "execution_count": null,
   "metadata": {},
   "outputs": [],
   "source": [
    "# sns.barplot(data=tempoDF, x=\"genderlabel\"  ,y=\"tempo\")"
   ]
  },
  {
   "cell_type": "code",
   "execution_count": null,
   "metadata": {},
   "outputs": [],
   "source": [
    "import sklearn.preprocessing as preProSkL\n",
    "\n",
    "labelEncoder = preProSkL.LabelEncoder()\n",
    "labelEncoded = labelEncoder.fit(genderlabel)\n",
    "labelEncodedTrans = labelEncoded.transform(genderlabel)\n",
    "#  inverse_transform to revert to normal\n",
    "\n"
   ]
  },
  {
   "cell_type": "code",
   "execution_count": null,
   "metadata": {},
   "outputs": [],
   "source": [
    "import numpy as np\n",
    "\n",
    "mfcc_specData = []\n",
    "\n",
    "for i, data in enumerate(musicData):\n",
    "    melSpec = mimosa.feature.melspectrogram(y = data)    \n",
    "    melSpec_to_db = mimosa.power_to_db(melSpec, ref=np.max)\n",
    "    mfcc_specData.append(melSpec_to_db)\n",
    "\n",
    "\n",
    "print(mfcc_specData)"
   ]
  },
  {
   "cell_type": "code",
   "execution_count": null,
   "metadata": {},
   "outputs": [],
   "source": [
    "import sklearn.model_selection as modelSelec\n",
    "\n",
    "X_train, X_test, y_train, y_test = modelSelec.train_test_split(mfcc_specData, labelEncodedTrans, test_size=0.30, random_state=42)\n",
    "\n"
   ]
  },
  {
   "cell_type": "code",
   "execution_count": null,
   "metadata": {},
   "outputs": [],
   "source": [
    "print(X_train)"
   ]
  },
  {
   "cell_type": "code",
   "execution_count": null,
   "metadata": {},
   "outputs": [],
   "source": [
    "\n",
    "print(y_train)"
   ]
  },
  {
   "cell_type": "code",
   "execution_count": null,
   "metadata": {},
   "outputs": [],
   "source": [
    "\n",
    "print(X_test)"
   ]
  },
  {
   "cell_type": "code",
   "execution_count": null,
   "metadata": {},
   "outputs": [],
   "source": [
    "\n",
    "print(y_test)"
   ]
  },
  {
   "cell_type": "code",
   "execution_count": null,
   "metadata": {},
   "outputs": [],
   "source": [
    "import matplotlib.pyplot as pyplot\n",
    "\n",
    "musicCounter = 0\n",
    "\n",
    "path = './musicsPlts'\n",
    "if not os.path.exists(path):\n",
    "    os.mkdir(path)\n",
    "\n",
    "for gender in musicGender:\n",
    "    genderPath = '{}'.format(path) + '/{}'.format(gender)\n",
    "    if not os.path.exists(genderPath):\n",
    "        os.mkdir(genderPath)\n",
    "\n",
    "for index in range(len(mfcc_specData)):\n",
    "    fig, ax = pyplot.subplots()\n",
    "    img = mimosa.display.specshow(mfcc_specData[index], x_axis='time', y_axis='mel', sr=sr, fmax=8000, ax=ax)\n",
    "    fig.colorbar(img, ax=ax, format='%+2.0f dB')\n",
    "\n",
    "    ax.set(title='Mel-frequency spectrogram')\n",
    "\n",
    "    if index % 100 == 0:\n",
    "        musicCounter = 0\n",
    "    \n",
    "    pyplot.savefig('{}'.format(path) + '/{}'.format(genderlabel[index]) + '/{}'.format(musicCounter) + '.png')\n",
    "\n",
    "    musicCounter +=1\n",
    "\n",
    "\n"
   ]
  }
 ],
 "metadata": {
  "kernelspec": {
   "display_name": "Python 3",
   "language": "python",
   "name": "python3"
  },
  "language_info": {
   "codemirror_mode": {
    "name": "ipython",
    "version": 3
   },
   "file_extension": ".py",
   "mimetype": "text/x-python",
   "name": "python",
   "nbconvert_exporter": "python",
   "pygments_lexer": "ipython3",
   "version": "3.10.8"
  },
  "orig_nbformat": 4
 },
 "nbformat": 4,
 "nbformat_minor": 2
}
